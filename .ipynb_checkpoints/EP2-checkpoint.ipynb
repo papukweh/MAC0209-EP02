{
 "cells": [
  {
   "cell_type": "markdown",
   "metadata": {},
   "source": [
    "# Exercício Programa 2 - MAC0209 - Modelagem e Simulação \n",
    "## Grupo: Eduardo Nascimento, Gabriel Massukado, Larissa Goto, Nathalia Borin, Matheus Lima\n",
    "\n",
    "## Introdução\n"
   ]
  },
  {
   "cell_type": "markdown",
   "metadata": {},
   "source": [
    "## Método\n",
    "\n",
    "\n",
    "### Verificação do programa\n"
   ]
  },
  {
   "cell_type": "code",
   "execution_count": 1,
   "metadata": {},
   "outputs": [],
   "source": [
    "#code goes here\n",
    "#pendulo: l = 67,3cm, ang = 30º\n",
    "#nerf: h = 1,545m\n",
    "#skate: h = 44cm, ang = 2,5º"
   ]
  },
  {
   "cell_type": "markdown",
   "metadata": {},
   "source": [
    "## Considerações Finais\n",
    "\n"
   ]
  },
  {
   "cell_type": "markdown",
   "metadata": {},
   "source": [
    "## Log\n",
    "\n",
    "O tempo que utilizamos para concluir esse exercício programa foi aproximadamente x horas, sendo:\n",
    "<ul>\n",
    "    <li>xh para a realização dos experimentos</li>\n",
    "    <li>xh para a escrita do código</li>\n",
    "    <li>xh para a escrita do relatório</li>\n",
    "    <li>xh para a edição do vídeo</li>\n",
    "</ul>"
   ]
  },
  {
   "cell_type": "markdown",
   "metadata": {},
   "source": [
    "## Vídeo do experimento\n",
    "\n",
    "(link aqui)"
   ]
  },
  {
   "cell_type": "markdown",
   "metadata": {},
   "source": [
    "## Contribuições dos autores\n",
    "\n",
    "Eduardo Nascimento foi responsável por (...)\n",
    "\n",
    "Gabriel Massukado foi responsável por (...)\n",
    "\n",
    "Larissa Goto foi responsável por (...)\n",
    "\n",
    "Nathalia Borin foi responsável por (...)\n",
    "\n",
    "Matheus Lima foi responsável por (...)\n",
    "\n",
    "Todos os autores escreveram e revisaram esse artigo. Todos os autores leram e aprovaram a versão final desse artigo."
   ]
  },
  {
   "cell_type": "code",
   "execution_count": null,
   "metadata": {},
   "outputs": [],
   "source": []
  }
 ],
 "metadata": {
  "kernelspec": {
   "display_name": "Python 3",
   "language": "python",
   "name": "python3"
  },
  "language_info": {
   "codemirror_mode": {
    "name": "ipython",
    "version": 3
   },
   "file_extension": ".py",
   "mimetype": "text/x-python",
   "name": "python",
   "nbconvert_exporter": "python",
   "pygments_lexer": "ipython3",
   "version": "3.5.2"
  }
 },
 "nbformat": 4,
 "nbformat_minor": 2
}
